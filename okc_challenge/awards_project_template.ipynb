{
 "cells": [
  {
   "cell_type": "markdown",
   "metadata": {
    "tags": []
   },
   "source": [
    "# Name: Igor Dantas Gomes Franca\n",
    "### Date: 19/08/2023"
   ]
  },
  {
   "cell_type": "markdown",
   "metadata": {},
   "source": [
    "<style>\n",
    ".jp-Notebook {\n",
    "    padding: var(--jp-notebook-padding);\n",
    "    margin-left: 160px;\n",
    "    outline: none;\n",
    "    overflow: auto;\n",
    "    background: var(--jp-layout-color0);\n",
    "}\n",
    "</style>"
   ]
  },
  {
   "cell_type": "markdown",
   "metadata": {},
   "source": [
    "<img src=\"https://cdn.nba.com/logos/nba/1610612760/primary/L/logo.svg\" alt=\"logo\" style=\"position: fixed; top: -40px; left: 5px; height: 250px;\">"
   ]
  },
  {
   "cell_type": "markdown",
   "metadata": {
    "jp-MarkdownHeadingCollapsed": true,
    "tags": []
   },
   "source": [
    "# Introduction  \n",
    "\n",
    "The purpose of this project is to gauge your technical skills and problem solving ability by working through something similar to a real NBA data science project. You will work your way through this jupyter notebook, answering questions as you go along. Please begin by adding your name to the top markdown chunk in this document. When you're finished with the document, come back and type your answers into the answer key at the top. Please leave all your work below and have your answers where indicated below as well. Please note that we will be reviewing your code so make it clear, concise and avoid long printouts. Feel free to add in as many new code chunks as you'd like.\n",
    "\n",
    "Remember that we will be grading the quality of your code and visuals alongside the correctness of your answers. Please try to use packages like pandas/numpy and matplotlib/seaborn as much as possible (instead of base python data manipulations and explicit loops.)  \n",
    "\n",
    "**WARNING:** Your project will **ONLY** be graded if it's knit to an HTML document where we can see your code. Be careful to make sure that any long lines of code appropriately visibly wrap around visibly to the next line, as code that's cut off from the side of the document cannot be graded.  \n",
    "\n",
    "**Note:**    \n",
    "\n",
    "**Throughout this document, any `season` column represents the year each season started. For example, the 2015-16 season will be in the dataset as 2015. For most of the rest of the project, we will refer to a season by just this number (e.g. 2015) instead of the full text (e.g. 2015-16).** "
   ]
  },
  {
   "cell_type": "markdown",
   "metadata": {},
   "source": [
    "# Answers  \n",
    "\n",
    "## Part 1      \n",
    "\n",
    "**Question 1:**   \n",
    "\n",
    "- 1st Team: XX.X points per game  \n",
    "- 2nd Team: XX.X points per game  \n",
    "- 3rd Team: XX.X points per game  \n",
    "- All-Star: XX.X points per game   \n",
    "\n",
    "**Question 2:** XX.X Years  \n",
    "\n",
    "**Question 3:** \n",
    "\n",
    "- Elite: X players.  \n",
    "- All-Star: X players.  \n",
    "- Starter: X players.  \n",
    "- Rotation: X players.  \n",
    "- Roster: X players.  \n",
    "- Out of League: X players.  \n",
    "\n",
    "**Open Ended Modeling Question:** Please show your work and leave all responses below in the document.\n",
    "\n",
    "\n",
    "## Part 2  \n",
    "\n",
    "**Question 1:** XX.X%   \n",
    "**Question 2:** Written question, put answer below in the document.    \n",
    "**Question 3:** Written question, put answer below in the document.    \n",
    "  \n"
   ]
  },
  {
   "cell_type": "markdown",
   "metadata": {},
   "source": [
    "# Setup and Data    "
   ]
  },
  {
   "cell_type": "code",
   "execution_count": 1,
   "metadata": {},
   "outputs": [],
   "source": [
    "import pandas as pd\n",
    "import numpy as np\n",
    "import matplotlib\n",
    "import matplotlib.pyplot as plt\n",
    "import seaborn as sns\n",
    "from IPython.display import clear_output\n",
    "# Note you will likely have to change these paths. \n",
    "# If your data is in the same folder as this project, \n",
    "# the paths will likely be fixed for you by deleting ../../Data/awards_project/ from each string.\n",
    "awards = pd.read_csv(\"awards_data.csv\")\n",
    "player_data = pd.read_csv(\"player_stats.csv\")\n",
    "team_data = pd.read_csv(\"team_stats.csv\")\n",
    "rebounding_data = pd.read_csv(\"team_rebounding_data_22.csv\")"
   ]
  },
  {
   "cell_type": "markdown",
   "metadata": {},
   "source": [
    "## Part 1 -- Awards  \n",
    "\n",
    "In this section, you're going to work with data relating to player awards and statistics. You'll start with some data manipulation questions and work towards building a model to predict broad levels of career success.  \n"
   ]
  },
  {
   "cell_type": "code",
   "execution_count": 2,
   "metadata": {
    "collapsed": true,
    "jupyter": {
     "outputs_hidden": true
    }
   },
   "outputs": [
    {
     "data": {
      "text/html": [
       "<div>\n",
       "<style scoped>\n",
       "    .dataframe tbody tr th:only-of-type {\n",
       "        vertical-align: middle;\n",
       "    }\n",
       "\n",
       "    .dataframe tbody tr th {\n",
       "        vertical-align: top;\n",
       "    }\n",
       "\n",
       "    .dataframe thead th {\n",
       "        text-align: right;\n",
       "    }\n",
       "</style>\n",
       "<table border=\"1\" class=\"dataframe\">\n",
       "  <thead>\n",
       "    <tr style=\"text-align: right;\">\n",
       "      <th></th>\n",
       "      <th>nbapersonid</th>\n",
       "      <th>draftyear</th>\n",
       "      <th>draftpick</th>\n",
       "      <th>season</th>\n",
       "      <th>nbateamid</th>\n",
       "      <th>games</th>\n",
       "      <th>games_start</th>\n",
       "      <th>mins</th>\n",
       "      <th>fgm</th>\n",
       "      <th>fga</th>\n",
       "      <th>...</th>\n",
       "      <th>blk_pct</th>\n",
       "      <th>tov_pct</th>\n",
       "      <th>usg</th>\n",
       "      <th>OWS</th>\n",
       "      <th>DWS</th>\n",
       "      <th>WS</th>\n",
       "      <th>OBPM</th>\n",
       "      <th>DBPM</th>\n",
       "      <th>BPM</th>\n",
       "      <th>VORP</th>\n",
       "    </tr>\n",
       "  </thead>\n",
       "  <tbody>\n",
       "    <tr>\n",
       "      <th>count</th>\n",
       "      <td>8.492000e+03</td>\n",
       "      <td>8492.000000</td>\n",
       "      <td>6729.000000</td>\n",
       "      <td>8492.000000</td>\n",
       "      <td>8.492000e+03</td>\n",
       "      <td>8492.000000</td>\n",
       "      <td>8492.000000</td>\n",
       "      <td>8492.000000</td>\n",
       "      <td>8492.000000</td>\n",
       "      <td>8492.000000</td>\n",
       "      <td>...</td>\n",
       "      <td>8492.000000</td>\n",
       "      <td>8447.000000</td>\n",
       "      <td>8492.000000</td>\n",
       "      <td>8492.000000</td>\n",
       "      <td>8492.000000</td>\n",
       "      <td>8492.000000</td>\n",
       "      <td>8492.00000</td>\n",
       "      <td>8492.000000</td>\n",
       "      <td>8492.000000</td>\n",
       "      <td>8492.000000</td>\n",
       "    </tr>\n",
       "    <tr>\n",
       "      <th>mean</th>\n",
       "      <td>4.908586e+05</td>\n",
       "      <td>2009.336199</td>\n",
       "      <td>22.226780</td>\n",
       "      <td>2014.354216</td>\n",
       "      <td>1.610613e+09</td>\n",
       "      <td>44.002237</td>\n",
       "      <td>21.065002</td>\n",
       "      <td>1018.417452</td>\n",
       "      <td>162.521785</td>\n",
       "      <td>355.438295</td>\n",
       "      <td>...</td>\n",
       "      <td>0.016733</td>\n",
       "      <td>0.133888</td>\n",
       "      <td>0.185754</td>\n",
       "      <td>1.117840</td>\n",
       "      <td>1.034432</td>\n",
       "      <td>2.153957</td>\n",
       "      <td>-1.58236</td>\n",
       "      <td>-0.238424</td>\n",
       "      <td>-1.820996</td>\n",
       "      <td>0.511034</td>\n",
       "    </tr>\n",
       "    <tr>\n",
       "      <th>std</th>\n",
       "      <td>6.379069e+05</td>\n",
       "      <td>6.175973</td>\n",
       "      <td>15.447429</td>\n",
       "      <td>4.373970</td>\n",
       "      <td>8.672910e+00</td>\n",
       "      <td>26.282138</td>\n",
       "      <td>26.800959</td>\n",
       "      <td>847.050644</td>\n",
       "      <td>163.463691</td>\n",
       "      <td>348.255326</td>\n",
       "      <td>...</td>\n",
       "      <td>0.018625</td>\n",
       "      <td>0.069082</td>\n",
       "      <td>0.056566</td>\n",
       "      <td>1.847609</td>\n",
       "      <td>1.091134</td>\n",
       "      <td>2.705429</td>\n",
       "      <td>4.52719</td>\n",
       "      <td>1.996071</td>\n",
       "      <td>5.631339</td>\n",
       "      <td>1.188142</td>\n",
       "    </tr>\n",
       "    <tr>\n",
       "      <th>min</th>\n",
       "      <td>1.500000e+01</td>\n",
       "      <td>1991.000000</td>\n",
       "      <td>1.000000</td>\n",
       "      <td>2007.000000</td>\n",
       "      <td>1.610613e+09</td>\n",
       "      <td>1.000000</td>\n",
       "      <td>0.000000</td>\n",
       "      <td>1.000000</td>\n",
       "      <td>0.000000</td>\n",
       "      <td>0.000000</td>\n",
       "      <td>...</td>\n",
       "      <td>0.000000</td>\n",
       "      <td>0.000000</td>\n",
       "      <td>0.000000</td>\n",
       "      <td>-3.300000</td>\n",
       "      <td>-0.500000</td>\n",
       "      <td>-2.100000</td>\n",
       "      <td>-52.40000</td>\n",
       "      <td>-31.100000</td>\n",
       "      <td>-81.400000</td>\n",
       "      <td>-2.000000</td>\n",
       "    </tr>\n",
       "    <tr>\n",
       "      <th>25%</th>\n",
       "      <td>1.011438e+05</td>\n",
       "      <td>2005.000000</td>\n",
       "      <td>9.000000</td>\n",
       "      <td>2011.000000</td>\n",
       "      <td>1.610613e+09</td>\n",
       "      <td>20.000000</td>\n",
       "      <td>0.000000</td>\n",
       "      <td>238.000000</td>\n",
       "      <td>28.000000</td>\n",
       "      <td>67.000000</td>\n",
       "      <td>...</td>\n",
       "      <td>0.005000</td>\n",
       "      <td>0.099000</td>\n",
       "      <td>0.148000</td>\n",
       "      <td>0.000000</td>\n",
       "      <td>0.200000</td>\n",
       "      <td>0.100000</td>\n",
       "      <td>-3.20000</td>\n",
       "      <td>-1.100000</td>\n",
       "      <td>-3.600000</td>\n",
       "      <td>-0.100000</td>\n",
       "    </tr>\n",
       "    <tr>\n",
       "      <th>50%</th>\n",
       "      <td>2.023260e+05</td>\n",
       "      <td>2009.000000</td>\n",
       "      <td>20.000000</td>\n",
       "      <td>2014.000000</td>\n",
       "      <td>1.610613e+09</td>\n",
       "      <td>47.000000</td>\n",
       "      <td>6.000000</td>\n",
       "      <td>831.000000</td>\n",
       "      <td>109.000000</td>\n",
       "      <td>245.000000</td>\n",
       "      <td>...</td>\n",
       "      <td>0.011000</td>\n",
       "      <td>0.126000</td>\n",
       "      <td>0.181000</td>\n",
       "      <td>0.400000</td>\n",
       "      <td>0.700000</td>\n",
       "      <td>1.200000</td>\n",
       "      <td>-1.30000</td>\n",
       "      <td>-0.200000</td>\n",
       "      <td>-1.400000</td>\n",
       "      <td>0.100000</td>\n",
       "    </tr>\n",
       "    <tr>\n",
       "      <th>75%</th>\n",
       "      <td>2.039920e+05</td>\n",
       "      <td>2014.000000</td>\n",
       "      <td>34.000000</td>\n",
       "      <td>2018.000000</td>\n",
       "      <td>1.610613e+09</td>\n",
       "      <td>68.000000</td>\n",
       "      <td>37.250000</td>\n",
       "      <td>1685.000000</td>\n",
       "      <td>252.000000</td>\n",
       "      <td>553.000000</td>\n",
       "      <td>...</td>\n",
       "      <td>0.023000</td>\n",
       "      <td>0.159000</td>\n",
       "      <td>0.220000</td>\n",
       "      <td>1.700000</td>\n",
       "      <td>1.600000</td>\n",
       "      <td>3.300000</td>\n",
       "      <td>0.40000</td>\n",
       "      <td>0.700000</td>\n",
       "      <td>0.500000</td>\n",
       "      <td>0.700000</td>\n",
       "    </tr>\n",
       "    <tr>\n",
       "      <th>max</th>\n",
       "      <td>1.630994e+06</td>\n",
       "      <td>2021.000000</td>\n",
       "      <td>60.000000</td>\n",
       "      <td>2021.000000</td>\n",
       "      <td>1.610613e+09</td>\n",
       "      <td>82.000000</td>\n",
       "      <td>82.000000</td>\n",
       "      <td>3424.000000</td>\n",
       "      <td>857.000000</td>\n",
       "      <td>1941.000000</td>\n",
       "      <td>...</td>\n",
       "      <td>0.379000</td>\n",
       "      <td>1.000000</td>\n",
       "      <td>0.546000</td>\n",
       "      <td>14.800000</td>\n",
       "      <td>7.700000</td>\n",
       "      <td>20.300000</td>\n",
       "      <td>199.40000</td>\n",
       "      <td>42.700000</td>\n",
       "      <td>242.200000</td>\n",
       "      <td>11.800000</td>\n",
       "    </tr>\n",
       "  </tbody>\n",
       "</table>\n",
       "<p>8 rows × 47 columns</p>\n",
       "</div>"
      ],
      "text/plain": [
       "        nbapersonid    draftyear    draftpick       season     nbateamid  \\\n",
       "count  8.492000e+03  8492.000000  6729.000000  8492.000000  8.492000e+03   \n",
       "mean   4.908586e+05  2009.336199    22.226780  2014.354216  1.610613e+09   \n",
       "std    6.379069e+05     6.175973    15.447429     4.373970  8.672910e+00   \n",
       "min    1.500000e+01  1991.000000     1.000000  2007.000000  1.610613e+09   \n",
       "25%    1.011438e+05  2005.000000     9.000000  2011.000000  1.610613e+09   \n",
       "50%    2.023260e+05  2009.000000    20.000000  2014.000000  1.610613e+09   \n",
       "75%    2.039920e+05  2014.000000    34.000000  2018.000000  1.610613e+09   \n",
       "max    1.630994e+06  2021.000000    60.000000  2021.000000  1.610613e+09   \n",
       "\n",
       "             games  games_start         mins          fgm          fga  ...  \\\n",
       "count  8492.000000  8492.000000  8492.000000  8492.000000  8492.000000  ...   \n",
       "mean     44.002237    21.065002  1018.417452   162.521785   355.438295  ...   \n",
       "std      26.282138    26.800959   847.050644   163.463691   348.255326  ...   \n",
       "min       1.000000     0.000000     1.000000     0.000000     0.000000  ...   \n",
       "25%      20.000000     0.000000   238.000000    28.000000    67.000000  ...   \n",
       "50%      47.000000     6.000000   831.000000   109.000000   245.000000  ...   \n",
       "75%      68.000000    37.250000  1685.000000   252.000000   553.000000  ...   \n",
       "max      82.000000    82.000000  3424.000000   857.000000  1941.000000  ...   \n",
       "\n",
       "           blk_pct      tov_pct          usg          OWS          DWS  \\\n",
       "count  8492.000000  8447.000000  8492.000000  8492.000000  8492.000000   \n",
       "mean      0.016733     0.133888     0.185754     1.117840     1.034432   \n",
       "std       0.018625     0.069082     0.056566     1.847609     1.091134   \n",
       "min       0.000000     0.000000     0.000000    -3.300000    -0.500000   \n",
       "25%       0.005000     0.099000     0.148000     0.000000     0.200000   \n",
       "50%       0.011000     0.126000     0.181000     0.400000     0.700000   \n",
       "75%       0.023000     0.159000     0.220000     1.700000     1.600000   \n",
       "max       0.379000     1.000000     0.546000    14.800000     7.700000   \n",
       "\n",
       "                WS        OBPM         DBPM          BPM         VORP  \n",
       "count  8492.000000  8492.00000  8492.000000  8492.000000  8492.000000  \n",
       "mean      2.153957    -1.58236    -0.238424    -1.820996     0.511034  \n",
       "std       2.705429     4.52719     1.996071     5.631339     1.188142  \n",
       "min      -2.100000   -52.40000   -31.100000   -81.400000    -2.000000  \n",
       "25%       0.100000    -3.20000    -1.100000    -3.600000    -0.100000  \n",
       "50%       1.200000    -1.30000    -0.200000    -1.400000     0.100000  \n",
       "75%       3.300000     0.40000     0.700000     0.500000     0.700000  \n",
       "max      20.300000   199.40000    42.700000   242.200000    11.800000  \n",
       "\n",
       "[8 rows x 47 columns]"
      ]
     },
     "execution_count": 2,
     "metadata": {},
     "output_type": "execute_result"
    }
   ],
   "source": [
    "#awards.describe()\n",
    "player_data.describe()"
   ]
  },
  {
   "cell_type": "markdown",
   "metadata": {},
   "source": [
    "### Question 1  \n",
    "\n",
    "**QUESTION:** What is the average number of points per game for players in the 2007-2021 seasons who won All NBA First, Second, and Third teams (**not** the All Defensive Teams), as well as for players who were in the All-Star Game (**not** the rookie all-star game)?\n",
    "\n",
    "\n",
    " "
   ]
  },
  {
   "cell_type": "code",
   "execution_count": 3,
   "metadata": {},
   "outputs": [
    {
     "name": "stdout",
     "output_type": "stream",
     "text": [
      "1st Team: 25.9 points per game\n",
      "2nd Team: 23.1 points per game\n",
      "3rd Team: 20.5 points per game\n",
      "All-Star: 21.6 points per game\n"
     ]
    }
   ],
   "source": [
    "# Since player_data and awards_data are all between 2007-2021, there's no need to filter that\n",
    "\n",
    "# creating a column for points-per-game (ppg)\n",
    "player_data_copy = player_data\n",
    "player_data_copy['ppg'] = player_data_copy['points'] / player_data_copy['games']\n",
    "\n",
    "# merge ppg values from \"player_data\" with \"awards\"\n",
    "awards_copy = awards\n",
    "merged_data = awards_copy.merge(player_data_copy, on=['season', 'nbapersonid'], how='left')\n",
    "merged_data = merged_data.rename(columns={'ppg_y':'ppg'})\n",
    "\n",
    "# Get ppg from All NBA First\n",
    "awards_first_team = merged_data[merged_data['All NBA First Team'] == 1]\n",
    "print(f\"1st Team: {round(awards_first_team['ppg'].mean(),1)} points per game\")\n",
    "\n",
    "# ...\n",
    "awards_second_team = merged_data[merged_data['All NBA Second Team'] == 1]\n",
    "print(f\"2nd Team: {round(awards_second_team['ppg'].mean(),1)} points per game\")\n",
    "\n",
    "# ...\n",
    "awards_third_team = merged_data[merged_data['All NBA Third Team'] == 1]\n",
    "print(f\"3rd Team: {round(awards_third_team['ppg'].mean(),1)} points per game\")\n",
    "\n",
    "# Get ppg from all-star's\n",
    "awards_allstar = merged_data[merged_data['all_star_game'] == 1]\n",
    "print(f\"All-Star: {round(awards_allstar['ppg'].mean(),1)} points per game\")"
   ]
  },
  {
   "cell_type": "markdown",
   "metadata": {},
   "source": [
    "<strong><span style=\"color:red\">ANSWER 1:</span></strong>   \n",
    "\n",
    "1st Team: 25.9 points per game  \n",
    "2nd Team: 23.1 points per game  \n",
    "3rd Team: 20.5 points per game  \n",
    "All-Star: 21.6 points per game  "
   ]
  },
  {
   "cell_type": "markdown",
   "metadata": {},
   "source": [
    "### Question 2  \n",
    "\n",
    "**QUESTION:** What was the average number of years of experience in the league it takes for players to make their first All NBA Selection (1st, 2nd, or 3rd team)? Please limit your sample to players drafted in 2007 or later who did eventually go on to win at least one All NBA selection. For example:\n",
    "\n",
    "- Luka Doncic is in the dataset as 2 years. He was drafted in 2018 and won his first All NBA award in 2019 (which was his second season).  \n",
    "- LeBron James is not in this dataset, as he was drafted prior to 2007.  \n",
    "- Lu Dort is not in this dataset, as he has not received any All NBA honors.  \n",
    "\n"
   ]
  },
  {
   "cell_type": "code",
   "execution_count": 4,
   "metadata": {},
   "outputs": [],
   "source": [
    "# Filtering awards data, to keep only the first appearences at one of the awards for each nbapersonid\n",
    "\n",
    "encountered_ids = set()\n",
    "rows_filtered = []\n",
    "\n",
    "for index, row in awards.iterrows():\n",
    "    nbapersonid = row['nbapersonid']\n",
    "    \n",
    "    # Check if nbapersonid has been encountered before with a 1 value in first, second, or third\n",
    "    if nbapersonid in encountered_ids:\n",
    "        continue\n",
    "        \n",
    "    # If the current row has a 1 value in first, second, or third, mark nbapersonid as encountered\n",
    "    if row['All NBA First Team'] == 1 or row['All NBA Second Team'] == 1 or row['All NBA Third Team'] == 1:\n",
    "        encountered_ids.add(nbapersonid)\n",
    "    \n",
    "    # Append the current row to the filtered_data list\n",
    "    rows_filtered.append(row)\n",
    "    \n",
    "filtered_awards = pd.DataFrame(rows_filtered)\n"
   ]
  },
  {
   "cell_type": "code",
   "execution_count": 5,
   "metadata": {},
   "outputs": [
    {
     "name": "stdout",
     "output_type": "stream",
     "text": [
      "3.6 Years\n"
     ]
    }
   ],
   "source": [
    "# merge data of draft year to awards data\n",
    "merged_data = filtered_awards.merge(player_data, on=['season','nbapersonid'], how='left')\n",
    "merged_data = merged_data.rename(columns={'draftyear_y':'draftyear'})\n",
    "\n",
    "# keeping only players drafted in 2007 or later\n",
    "merged_data = merged_data[merged_data['draftyear'] >= 2007]\n",
    "\n",
    "# Creating column for years until first nba selection after draft\n",
    "merged_data['time_until_selection'] = merged_data['season'] - merged_data['draftyear']\n",
    "\n",
    "print(f\"{round(merged_data['time_until_selection'].mean(),1)} Years\")"
   ]
  },
  {
   "cell_type": "markdown",
   "metadata": {},
   "source": [
    "<strong><span style=\"color:red\">ANSWER 2:</span></strong>  \n",
    "\n",
    "3.6 Years  "
   ]
  },
  {
   "cell_type": "markdown",
   "metadata": {},
   "source": [
    "## Data Cleaning Interlude  \n",
    "\n",
    "You're going to work to create a dataset with a \"career outcome\" for each player, representing the highest level of success that the player achieved for **at least two** seasons *after his first four seasons in the league* (examples to follow below!). To do this, you'll start with single season level outcomes. On a single season level, the outcomes are:  \n",
    "\n",
    "- Elite: A player is \"Elite\" in a season if he won any All NBA award (1st, 2nd, or 3rd team), MVP, or DPOY in that season.    \n",
    "- All-Star: A player is \"All-Star\" in a season if he was selected to be an All-Star that season.   \n",
    "- Starter:  A player is a \"Starter\" in a season if he started in at least 41 games in the season OR if he played at least 2000 minutes in the season.    \n",
    "- Rotation:  A player is a \"Rotation\" player in a season if he played at least 1000 minutes in the season.   \n",
    "- Roster:  A player is a \"Roster\" player in a season if he played at least 1 minute for an NBA team but did not meet any of the above criteria.     \n",
    "- Out of the League: A player is \"Out of the League\" if he is not in the NBA in that season.   \n",
    "\n",
    "We need to make an adjustment for determining Starter/Rotation qualifications for a few seasons that didn't have 82 games per team. Assume that there were 66 possible games in the 2011 lockout season and 72 possible games in each of the 2019 and 2020 seasons that were shortened due to covid. Specifically, if a player played 900 minutes in 2011, he **would** meet the rotation criteria because his final minutes would be considered to be 900 * (82/66) = 1118. Please use this math for both minutes and games started, so a player who started 38 games in 2019 or 2020 would be considered to have started 38 * (82/72) = 43 games, and thus would qualify for starting 41. Any answers should be calculated assuming you round the multiplied values to the nearest whole number.\n",
    "\n",
    "Note that on a season level, a player's outcome is the highest level of success he qualifies for in that season. Thus, since Shai Gilgeous-Alexander was both All-NBA 1st team and an All-Star last year, he would be considered to be \"Elite\" for the 2022 season, but would still qualify for a career outcome of All-Star if in the rest of his career he made one more All-Star game but no more All-NBA teams. Note this is a hypothetical, and Shai has not yet played enough to have a career outcome.    \n",
    "\n",
    "Examples:  \n",
    "\n",
    "- A player who enters the league as a rookie and has season outcomes of Roster (1), Rotation (2), Rotation (3), Roster (4), Roster (5), Out of the League (6+) would be considered \"Out of the League,\" because after his first four seasons, he only has a single Roster year, which does not qualify him for any success outcome.  \n",
    "- A player who enters the league as a rookie and has season outcomes of Roster (1), Rotation (2), Starter (3), Starter (4), Starter (5), Starter (6), All-Star (7), Elite (8), Starter (9) would be considered \"All-Star,\" because he had at least two seasons after his first four at all-star level of production or higher.  \n",
    "- A player who enters the league as a rookie and has season outcomes of Roster (1), Rotation (2), Starter (3), Starter (4), Starter (5), Starter (6), Rotation (7), Rotation (8), Roster (9) would be considered a \"Starter\" because he has two seasons after his first four at a starter level of production. \n"
   ]
  },
  {
   "cell_type": "markdown",
   "metadata": {},
   "source": [
    "### Question 3  \n",
    "\n",
    "**QUESTION:** There are 73 players in the `player_data` dataset who have 2010 listed as their draft year. How many of those players have a **career** outcome in each of the 6 buckets?  "
   ]
  },
  {
   "cell_type": "code",
   "execution_count": 18,
   "metadata": {},
   "outputs": [
    {
     "ename": "SyntaxError",
     "evalue": "closing parenthesis ']' does not match opening parenthesis '(' (2658173527.py, line 2)",
     "output_type": "error",
     "traceback": [
      "\u001b[1;36m  Cell \u001b[1;32mIn[18], line 2\u001b[1;36m\u001b[0m\n\u001b[1;33m    for games_num in player_data_copy[(player_data_copy['season'] == 2019) or  (player_data_copy['season'] == 2020]['games']:\u001b[0m\n\u001b[1;37m                                                                                                                  ^\u001b[0m\n\u001b[1;31mSyntaxError\u001b[0m\u001b[1;31m:\u001b[0m closing parenthesis ']' does not match opening parenthesis '('\n"
     ]
    }
   ],
   "source": [
    "player_data_copy = player_data\n",
    "for games_num in player_data_copy[(player_data_copy['season'] == 2019) or  (player_data_copy['season'] == 2020)]['games']:\n"
   ]
  },
  {
   "cell_type": "code",
   "execution_count": 21,
   "metadata": {},
   "outputs": [
    {
     "ename": "ValueError",
     "evalue": "The truth value of a Series is ambiguous. Use a.empty, a.bool(), a.item(), a.any() or a.all().",
     "output_type": "error",
     "traceback": [
      "\u001b[1;31m---------------------------------------------------------------------------\u001b[0m",
      "\u001b[1;31mValueError\u001b[0m                                Traceback (most recent call last)",
      "\u001b[1;32m~\\AppData\\Local\\Temp\\ipykernel_12036\\545330136.py\u001b[0m in \u001b[0;36m?\u001b[1;34m()\u001b[0m\n\u001b[1;32m----> 1\u001b[1;33m \u001b[0mplayer_data_copy\u001b[0m\u001b[1;33m[\u001b[0m\u001b[1;33m(\u001b[0m\u001b[0mplayer_data_copy\u001b[0m\u001b[1;33m[\u001b[0m\u001b[1;34m'season'\u001b[0m\u001b[1;33m]\u001b[0m \u001b[1;33m==\u001b[0m \u001b[1;36m2019\u001b[0m \u001b[1;32mor\u001b[0m \u001b[0mplayer_data_copy\u001b[0m\u001b[1;33m[\u001b[0m\u001b[1;34m'season'\u001b[0m\u001b[1;33m]\u001b[0m \u001b[1;33m==\u001b[0m \u001b[1;36m2020\u001b[0m\u001b[1;33m)\u001b[0m\u001b[1;33m]\u001b[0m\u001b[1;33m[\u001b[0m\u001b[1;34m'games'\u001b[0m\u001b[1;33m]\u001b[0m\u001b[1;33m\u001b[0m\u001b[1;33m\u001b[0m\u001b[0m\n\u001b[0m",
      "\u001b[1;32m~\\AppData\\Local\\Programs\\Python\\Python311\\Lib\\site-packages\\pandas\\core\\generic.py\u001b[0m in \u001b[0;36m?\u001b[1;34m(self)\u001b[0m\n\u001b[0;32m   1464\u001b[0m     \u001b[1;33m@\u001b[0m\u001b[0mfinal\u001b[0m\u001b[1;33m\u001b[0m\u001b[1;33m\u001b[0m\u001b[0m\n\u001b[0;32m   1465\u001b[0m     \u001b[1;32mdef\u001b[0m \u001b[0m__nonzero__\u001b[0m\u001b[1;33m(\u001b[0m\u001b[0mself\u001b[0m\u001b[1;33m)\u001b[0m \u001b[1;33m->\u001b[0m \u001b[0mNoReturn\u001b[0m\u001b[1;33m:\u001b[0m\u001b[1;33m\u001b[0m\u001b[1;33m\u001b[0m\u001b[0m\n\u001b[1;32m-> 1466\u001b[1;33m         raise ValueError(\n\u001b[0m\u001b[0;32m   1467\u001b[0m             \u001b[1;34mf\"The truth value of a {type(self).__name__} is ambiguous. \"\u001b[0m\u001b[1;33m\u001b[0m\u001b[1;33m\u001b[0m\u001b[0m\n\u001b[0;32m   1468\u001b[0m             \u001b[1;34m\"Use a.empty, a.bool(), a.item(), a.any() or a.all().\"\u001b[0m\u001b[1;33m\u001b[0m\u001b[1;33m\u001b[0m\u001b[0m\n\u001b[0;32m   1469\u001b[0m         )\n",
      "\u001b[1;31mValueError\u001b[0m: The truth value of a Series is ambiguous. Use a.empty, a.bool(), a.item(), a.any() or a.all()."
     ]
    }
   ],
   "source": [
    "player_data_copy[(player_data_copy['season'] == 2019 or player_data_copy['season'] == 2020)]['games']"
   ]
  },
  {
   "cell_type": "markdown",
   "metadata": {},
   "source": [
    "<strong><span style=\"color:red\">ANSWER 3:</span></strong>  \n",
    "\n",
    "Elite: X players.  \n",
    "All-Star: X players.  \n",
    "Starter: X players.  \n",
    "Rotation: X players.  \n",
    "Roster: X players.  \n",
    "Out of League: X players.  "
   ]
  },
  {
   "cell_type": "markdown",
   "metadata": {},
   "source": [
    "### Open Ended Modeling Question   \n",
    "\n",
    "In this question, you will work to build a model to predict a player's career outcome based on information up through the first four years of his career. \n",
    "\n",
    "This question is intentionally left fairly open ended, but here are some notes and specifications.  \n",
    "\n",
    "1. We know modeling questions can take a long time, and that qualified candidates will have different levels of experience with \"formal\" modeling. Don't be discouraged. It's not our intention to make you spend excessive time here. If you get your model to a good spot but think you could do better by spending a lot more time, you can just write a bit about your ideas for future improvement and leave it there. Further, we're more interested in your thought process and critical thinking than we are in specific modeling techniques. Using smart features is more important than using fancy mathematical machinery, and a successful candidate could use a simple regression approach. \n",
    "\n",
    "2. You may use any data provided in this project, but please do not bring in any external sources of data. Note that while most of the data provided goes back to 2007, All NBA and All Rookie team voting is only included back to 2011.  \n",
    "\n",
    "3. A player needs to complete three additional seasons after their first four to be considered as having a distinct career outcome for our dataset. Because the dataset in this project ends in 2021, this means that a player would need to have had the chance to play in the '21, '20, and '19 seasons after his first four years, and thus his first four years would have been '18, '17, '16, and '15. **For this reason, limit your training data to players who were drafted in or before the 2015 season.** Karl-Anthony Towns was the #1 pick in that season.  \n",
    "\n",
    "4. Once you build your model, predict on all players who were drafted in 2018-2021 (They have between 1 and 4 seasons of data available and have not yet started accumulating seasons that inform their career outcome).  \n",
    "\n",
    "5. You can predict a single career outcome for each player, but it's better if you can predict the probability that each player falls into each outcome bucket.    \n",
    "\n",
    "6. Include, as part of your answer:  \n",
    "  - A brief written overview of how your model works, targeted towards a decision maker in the front office without a strong statistical background. \n",
    "  - What you view as the strengths and weaknesses of your model.  \n",
    "  - How you'd address the weaknesses if you had more time and or more data.  \n",
    "  - A matplotlib or plotly visualization highlighting some part of your modeling process, the model itself, or your results.  \n",
    "  - Your predictions for Shai Gilgeous-Alexander, Zion Williamson, James Wiseman, and Josh Giddey.  \n",
    "  - (Bonus!) An html table (for example, see the package `reactable`) containing all predictions for the players drafted in 2019-2021.  \n",
    "\n"
   ]
  },
  {
   "cell_type": "code",
   "execution_count": 6,
   "metadata": {},
   "outputs": [],
   "source": [
    "# Note: Here as well as anywhere else, feel free to add as many code chunks as you'd like."
   ]
  },
  {
   "cell_type": "markdown",
   "metadata": {},
   "source": [
    "## Part 2 -- Predicting Team Stats  \n",
    "\n",
    "In this section, we're going to introduce a simple way to predict team offensive rebound percent in the next game and then discuss ways to improve those predictions.  \n",
    " \n",
    "### Question 1   \n",
    "\n",
    "Using the `rebounding_data` dataset, we'll predict a team's next game's offensive rebounding percent to be their average offensive rebounding percent in all prior games. On a single game level, offensive rebounding percent is the number of offensive rebounds divided by their number offensive rebound \"chances\" (essentially the team's missed shots). On a multi-game sample, it should be the total number of offensive rebounds divided by the total number of offensive rebound chances.    \n",
    "\n",
    "Please calculate what OKC's predicted offensive rebound percent is for game 81 in the data. That is, use games 1-80 to predict game 81.  "
   ]
  },
  {
   "cell_type": "code",
   "execution_count": null,
   "metadata": {},
   "outputs": [],
   "source": []
  },
  {
   "cell_type": "markdown",
   "metadata": {},
   "source": [
    "<strong><span style=\"color:red\">ANSWER 1:</span></strong>  \n",
    "\n",
    "XX.X% "
   ]
  },
  {
   "cell_type": "markdown",
   "metadata": {},
   "source": [
    "### Question 2  \n",
    "\n",
    "There are a few limitations to the method we used above. For example, if a team has a great offensive rebounder who has played in most games this season but will be out due to an injury for the next game, we might reasonably predict a lower team offensive rebound percent for the next game.  \n",
    "\n",
    "Please discuss how you would think about changing our original model to better account for missing players. You do not have to write any code or implement any changes, and you can assume you have access to any reasonable data that isn't provided in this project. Try to be clear and concise with your answer.  "
   ]
  },
  {
   "cell_type": "markdown",
   "metadata": {},
   "source": [
    "<strong><span style=\"color:red\">ANSWER 2:</span></strong>  "
   ]
  },
  {
   "cell_type": "markdown",
   "metadata": {},
   "source": [
    "### Question 3  \n",
    "\n",
    "In question 2, you saw and discussed how to deal with one weakness of the model. For this question, please write about 1-3 other potential weaknesses of the simple average model you made in question 1 and discuss how you would deal with each of them. You may either explain a weakness and discuss how you'd fix that weakness, then move onto the next issue, or you can start by explaining multiple weaknesses with the original approach and discuss one overall modeling methodology you'd use that gets around most or all of them. Again, you do not need to write any code or implement any changes, and you can assume you have access to any reasonable data that isn't provided in this project. Try to be clear and concise with your answer.  \n"
   ]
  },
  {
   "cell_type": "markdown",
   "metadata": {},
   "source": [
    "<strong><span style=\"color:red\">ANSWER 3:</span></strong>  "
   ]
  }
 ],
 "metadata": {
  "kernelspec": {
   "display_name": "Python 3 (ipykernel)",
   "language": "python",
   "name": "python3"
  },
  "language_info": {
   "codemirror_mode": {
    "name": "ipython",
    "version": 3
   },
   "file_extension": ".py",
   "mimetype": "text/x-python",
   "name": "python",
   "nbconvert_exporter": "python",
   "pygments_lexer": "ipython3",
   "version": "3.11.4"
  }
 },
 "nbformat": 4,
 "nbformat_minor": 4
}
